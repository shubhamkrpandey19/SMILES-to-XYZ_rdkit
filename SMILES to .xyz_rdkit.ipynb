{
 "cells": [
  {
   "cell_type": "code",
   "execution_count": null,
   "id": "7e986d02",
   "metadata": {},
   "outputs": [],
   "source": [
    "from rdkit import Chem\n",
    "from rdkit.Chem import AllChem"
   ]
  },
  {
   "cell_type": "code",
   "execution_count": null,
   "id": "174be267",
   "metadata": {},
   "outputs": [],
   "source": [
    "import os\n",
    "import rdkit\n",
    "from rdkit.Chem import AllChem"
   ]
  },
  {
   "cell_type": "code",
   "execution_count": null,
   "id": "0f1ecc72",
   "metadata": {},
   "outputs": [],
   "source": [
    "import pandas as pd"
   ]
  },
  {
   "cell_type": "code",
   "execution_count": null,
   "id": "1fbce637",
   "metadata": {},
   "outputs": [],
   "source": [
    "data=pd.read_csv(\"nitrile containing.csv\")"
   ]
  },
  {
   "cell_type": "code",
   "execution_count": null,
   "id": "449fdc2b",
   "metadata": {},
   "outputs": [],
   "source": [
    "data.head()"
   ]
  },
  {
   "cell_type": "code",
   "execution_count": null,
   "id": "e62a8d77",
   "metadata": {},
   "outputs": [],
   "source": [
    "data1=data[\"SMILES\"]"
   ]
  },
  {
   "cell_type": "code",
   "execution_count": null,
   "id": "55ea1cd1",
   "metadata": {},
   "outputs": [],
   "source": [
    "f = open(\"test.txt\",\"a\")\n",
    "f.write(Chem.MolToXYZBlock(mol))\n",
    "f.close()"
   ]
  },
  {
   "cell_type": "code",
   "execution_count": null,
   "id": "aab10e37",
   "metadata": {},
   "outputs": [],
   "source": []
  },
  {
   "cell_type": "code",
   "execution_count": null,
   "id": "13028677",
   "metadata": {},
   "outputs": [],
   "source": [
    ".to_csv(\"test.txt\")"
   ]
  },
  {
   "cell_type": "code",
   "execution_count": null,
   "id": "02550d44",
   "metadata": {
    "scrolled": true
   },
   "outputs": [],
   "source": [
    "for i in range(17513):\n",
    "    mol = Chem.MolFromSmiles(data1[i])\n",
    "    print(\"Num: \" + str(mol.GetNumAtoms()))\n",
    "    mol = Chem.AddHs(mol,explicitOnly=False)\n",
    "    AllChem.EmbedMolecule(mol)\n",
    "    print(Chem.MolToXYZBlock(mol))\n",
    "    f = open(\"training/str_\"+str(i)+\".xyz\",\"a\")\n",
    "    f.write(Chem.MolToXYZBlock(mol))\n",
    "    f.close()"
   ]
  },
  {
   "cell_type": "code",
   "execution_count": null,
   "id": "59ec0fde",
   "metadata": {},
   "outputs": [],
   "source": [
    "from rdkit import Chem\n",
    "from rdkit.Chem import AllChem\n",
    "\n",
    "mol = Chem.MolFromSmiles(\"[H]C([H])([H])C\")\n",
    "print(\"Num: \",mol.GetNumAtoms())\n",
    "mol = Chem.AddHs(mol,explicitOnly=True)\n",
    "AllChem.EmbedMolecule(mol)\n",
    "print(Chem.MolToXYZBlock(mol))"
   ]
  },
  {
   "cell_type": "code",
   "execution_count": null,
   "id": "df0c8ed7",
   "metadata": {},
   "outputs": [],
   "source": []
  }
 ],
 "metadata": {
  "kernelspec": {
   "display_name": "Python 3",
   "language": "python",
   "name": "python3"
  },
  "language_info": {
   "codemirror_mode": {
    "name": "ipython",
    "version": 3
   },
   "file_extension": ".py",
   "mimetype": "text/x-python",
   "name": "python",
   "nbconvert_exporter": "python",
   "pygments_lexer": "ipython3",
   "version": "3.9.12"
  }
 },
 "nbformat": 4,
 "nbformat_minor": 5
}
